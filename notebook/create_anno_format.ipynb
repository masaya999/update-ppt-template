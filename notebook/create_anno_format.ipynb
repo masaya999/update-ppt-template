{
 "cells": [
  {
   "cell_type": "code",
   "execution_count": null,
   "metadata": {},
   "outputs": [],
   "source": [
    "import re\n",
    "\n",
    "def remove_markdown_special_chars(text):\n",
    "    # マークダウンの特殊文字パターンを定義\n",
    "    patterns = [\n",
    "        r'\\#{1,6}\\s',        # ヘッダー (例: #, ##, ###, etc.)\n",
    "        r'\\*{1,2}|\\_{1,2}',  # 強調・斜体 (例: * *, ** **, _ _, __ __)\n",
    "        r'\\-\\s|\\*\\s|\\+\\s',   # 箇条書き (例: -, *, +)\n",
    "        r'\\d+\\.\\s',          # 番号付きリスト\n",
    "        r'\\>\\s',             # 引用\n",
    "        r'\\`\\`\\`.*\\n',       # コードブロック (フェンスド)\n",
    "        r'\\`',               # インラインコード\n",
    "        r'\\!\\[.*\\]\\(.*\\)',   # 画像リンク\n",
    "        r'\\[.*\\]\\(.*\\)',     # 通常のリンク\n",
    "        r'\\~{2}',            # 打ち消し線\n",
    "        r'\\|\\|',             # スプリッタ (テーブル)\n",
    "        r'\\|'                # テーブルのセル分割\n",
    "    ]\n",
    "    # 各パターンに対して置換実行\n",
    "    for pattern in patterns:\n",
    "        text = re.sub(pattern, '', text)\n",
    "    return text"
   ]
  }
 ],
 "metadata": {
  "language_info": {
   "name": "python"
  }
 },
 "nbformat": 4,
 "nbformat_minor": 2
}
